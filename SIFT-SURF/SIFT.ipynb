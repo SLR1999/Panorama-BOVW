{
 "cells": [
  {
   "cell_type": "code",
   "execution_count": 1,
   "metadata": {},
   "outputs": [],
   "source": [
    "import cv2\n",
    "import imutils\n",
    "from imutils import paths\n",
    "import random\n",
    "import numpy as np\n",
    "import os\n",
    "from scipy.cluster.vq import *\n",
    "from sklearn.preprocessing import StandardScaler\n",
    "from sklearn.model_selection import train_test_split\n",
    "from sklearn.neighbors import KNeighborsClassifier\n",
    "import sklearn.metrics as metrics\n",
    "import matplotlib.pyplot as plt"
   ]
  },
  {
   "cell_type": "code",
   "execution_count": 2,
   "metadata": {},
   "outputs": [],
   "source": [
    "imagePaths = list(imutils.paths.list_images(\"Bikes\")) + list(imutils.paths.list_images(\"Horses\"))\n",
    "random.shuffle(imagePaths)\n",
    "\n",
    "labels = []\n",
    "descriptorList = []\n",
    "\n",
    "sift = cv2.xfeatures2d.SIFT_create()\n",
    "\n",
    "for (i, imagePath) in enumerate(imagePaths):\n",
    "    image = cv2.imread(imagePath)\n",
    "    gray_image = cv2.cvtColor(image, cv2.COLOR_RGB2GRAY)\n",
    "    label = imagePath.split(os.path.sep)[0].split(\"/\")[0]\n",
    "    keyPoints, descriptor = sift.detectAndCompute(image, None)\n",
    "    descriptorList.append((imagePath, descriptor))\n",
    "    if (label == 'Bikes'):\n",
    "        labels.append(0)\n",
    "    else:\n",
    "        labels.append(1)\n",
    "        \n",
    "        \n",
    "descriptors = descriptorList[0][1]\n",
    "    \n",
    "for imageFlag, descriptor in descriptorList[1:]:\n",
    "    descriptors = np.vstack((descriptors, descriptor))\n",
    "    "
   ]
  },
  {
   "cell_type": "code",
   "execution_count": 3,
   "metadata": {},
   "outputs": [
    {
     "name": "stdout",
     "output_type": "stream",
     "text": [
      "257.48697\n",
      "500\n"
     ]
    }
   ],
   "source": [
    "k = 500\n",
    "\n",
    "voc,  variance = kmeans(descriptors, k, 1)\n",
    "print (variance)\n",
    "print (len(voc))"
   ]
  },
  {
   "cell_type": "code",
   "execution_count": 4,
   "metadata": {},
   "outputs": [],
   "source": [
    "imageFeatures = np.zeros((len(imagePaths), k), \"float32\")\n",
    "for i in range(len(imagePaths)):\n",
    "    words, distance = vq(descriptorList[i][1],voc)\n",
    "    for w in words:\n",
    "        imageFeatures[i][w] += 1"
   ]
  },
  {
   "cell_type": "code",
   "execution_count": 5,
   "metadata": {},
   "outputs": [],
   "source": [
    "# numberOccurences = np.sum( (imageFeatures > 0) * 1, axis = 0)\n",
    "# # print (len(numberOccurences))\n",
    "# idf = np.array(np.log((1.0*len(imagePaths)+1) / (1.0*numberOccurences + 1)), 'float32')\n",
    "# print (len(idf))"
   ]
  },
  {
   "cell_type": "code",
   "execution_count": 6,
   "metadata": {},
   "outputs": [],
   "source": [
    "stdSlr = StandardScaler().fit(imageFeatures)\n",
    "imageFeatures = stdSlr.transform(imageFeatures)"
   ]
  },
  {
   "cell_type": "code",
   "execution_count": 7,
   "metadata": {},
   "outputs": [],
   "source": [
    "X_train, X_test, y_train, y_test = train_test_split(imageFeatures, labels, test_size=0.4, random_state=4)"
   ]
  },
  {
   "cell_type": "code",
   "execution_count": 8,
   "metadata": {},
   "outputs": [
    {
     "data": {
      "text/plain": [
       "True"
      ]
     },
     "execution_count": 8,
     "metadata": {},
     "output_type": "execute_result"
    }
   ],
   "source": [
    "clf = cv2.ml.KNearest_create()\n",
    "clf.train(X_train, cv2.ml.ROW_SAMPLE, np.asarray(y_train, dtype=np.float32))"
   ]
  },
  {
   "cell_type": "code",
   "execution_count": 9,
   "metadata": {},
   "outputs": [],
   "source": [
    "ret, results, neighbours ,dist = clf.findNearest(X_test, k=10)"
   ]
  },
  {
   "cell_type": "code",
   "execution_count": 10,
   "metadata": {},
   "outputs": [
    {
     "name": "stdout",
     "output_type": "stream",
     "text": [
      "[0, 0, 0, 1, 0, 1, 1, 1, 1, 1, 0, 0, 1, 0, 1, 1, 1, 1, 0, 1, 0, 0, 1, 0, 0, 1, 0, 1, 0, 0, 0, 0, 0, 0, 1, 0, 1, 1, 0, 0, 1, 1, 0, 1, 0, 1, 1, 0, 1, 0, 0, 0, 0, 1, 1, 1, 1, 1, 1, 1, 0, 1, 1, 1, 0, 1, 0, 0, 1, 1, 1, 1]\n",
      "[0, 0, 1, 1, 0, 1, 1, 1, 1, 1, 1, 0, 1, 1, 1, 1, 1, 1, 0, 1, 0, 0, 1, 0, 1, 1, 0, 1, 0, 0, 0, 1, 1, 1, 1, 1, 1, 1, 0, 0, 1, 1, 0, 1, 0, 1, 1, 0, 1, 0, 1, 0, 0, 1, 1, 1, 1, 1, 1, 1, 0, 1, 1, 1, 1, 1, 0, 0, 1, 1, 1, 1]\n"
     ]
    },
    {
     "data": {
      "text/plain": [
       "0.8611111111111112"
      ]
     },
     "execution_count": 10,
     "metadata": {},
     "output_type": "execute_result"
    }
   ],
   "source": [
    "pred_label = []\n",
    "for var in results:\n",
    "    label = var\n",
    "    pred_label.append(int(label))\n",
    "\n",
    "print (y_test)\n",
    "print (pred_label)\n",
    "    \n",
    "metrics.accuracy_score(y_test, pred_label)\n",
    "# results = list(results.astype(int))\n",
    "# print (results)\n",
    "# print (labels_test)"
   ]
  },
  {
   "cell_type": "code",
   "execution_count": null,
   "metadata": {},
   "outputs": [],
   "source": []
  }
 ],
 "metadata": {
  "kernelspec": {
   "display_name": "Python 3",
   "language": "python",
   "name": "python3"
  },
  "language_info": {
   "codemirror_mode": {
    "name": "ipython",
    "version": 3
   },
   "file_extension": ".py",
   "mimetype": "text/x-python",
   "name": "python",
   "nbconvert_exporter": "python",
   "pygments_lexer": "ipython3",
   "version": "3.5.6"
  }
 },
 "nbformat": 4,
 "nbformat_minor": 2
}
