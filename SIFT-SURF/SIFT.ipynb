{
 "cells": [
  {
   "cell_type": "code",
   "execution_count": 1,
   "metadata": {},
   "outputs": [],
   "source": [
    "import cv2\n",
    "# Importing the opencv library\n",
    "import imutils\n",
    "from imutils import paths\n",
    "# Importing the library that supports basic image processing functions\n",
    "import numpy as np\n",
    "# Importing the array operations library for python\n",
    "import os\n",
    "# Importing the library which supports standard systems commands\n",
    "from scipy.cluster.vq import *\n",
    "# Importing the library which classifies set of observations into clusters\n",
    "from sklearn.preprocessing import StandardScaler\n",
    "from sklearn.model_selection import train_test_split\n",
    "from sklearn.neighbors import KNeighborsClassifier\n",
    "import sklearn.metrics as metrics"
   ]
  },
  {
   "cell_type": "code",
   "execution_count": 2,
   "metadata": {},
   "outputs": [],
   "source": [
    "imagePaths = list(imutils.paths.list_images(\"images\"))\n",
    "\n",
    "labels = []\n",
    "descriptorList = []\n",
    "\n",
    "sift = cv2.xfeatures2d.SIFT_create()\n",
    "# descriptorExtractor = cv2.DescriptorExtractor_create(\"SIFT\")\n",
    "\n",
    "for (i, imagePath) in enumerate(imagePaths):\n",
    "    image = cv2.imread(imagePath)\n",
    "#     gray_image = cv2.cvtColor(image, cv2.COLOR_RGB2GRAY)\n",
    "    label = imagePath.split(os.path.sep)[-1].split(\"_\")[1][0]\n",
    "#     keyPoints = featureDetector.detect(gray_image)\n",
    "#     keyPoints, descriptor = descriptorExtractor.compute(image, keyPoints)\n",
    "    keyPoints, descriptor = sift.detectAndCompute(image, None)\n",
    "    descriptorList.append((imagePath, descriptor))\n",
    "    labels.append(label)\n",
    "    \n",
    "descriptors = descriptorList[0][1]\n",
    "    \n",
    "for image_path, descriptor in descriptorList[1:]:\n",
    "    descriptors = np.vstack((descriptors, descriptor))\n",
    "    "
   ]
  },
  {
   "cell_type": "code",
   "execution_count": 3,
   "metadata": {},
   "outputs": [
    {
     "name": "stdout",
     "output_type": "stream",
     "text": [
      "256.99744\n",
      "500\n"
     ]
    }
   ],
   "source": [
    "k = 500\n",
    "\n",
    "voc,  variance = kmeans(descriptors, k, 1)\n",
    "print (variance)\n",
    "print (len(voc))"
   ]
  },
  {
   "cell_type": "code",
   "execution_count": 4,
   "metadata": {},
   "outputs": [],
   "source": [
    "imageFeatures = np.zeros((len(imagePaths), k), \"float32\")\n",
    "for i in range(len(imagePaths)):\n",
    "    words, distance = vq(descriptorList[i][1],voc)\n",
    "    for w in words:\n",
    "        imageFeatures[i][w] += 1"
   ]
  },
  {
   "cell_type": "code",
   "execution_count": 5,
   "metadata": {},
   "outputs": [
    {
     "name": "stdout",
     "output_type": "stream",
     "text": [
      "500\n"
     ]
    }
   ],
   "source": [
    "numberOccurences = np.sum( (imageFeatures > 0) * 1, axis = 0)\n",
    "# print (len(numberOccurences))\n",
    "idf = np.array(np.log((1.0*len(imagePaths)+1) / (1.0*numberOccurences + 1)), 'float32')\n",
    "print (len(idf))"
   ]
  },
  {
   "cell_type": "code",
   "execution_count": 6,
   "metadata": {},
   "outputs": [],
   "source": [
    "stdSlr = StandardScaler().fit(imageFeatures)\n",
    "imageFeatures = stdSlr.transform(imageFeatures)"
   ]
  },
  {
   "cell_type": "code",
   "execution_count": 7,
   "metadata": {},
   "outputs": [
    {
     "name": "stdout",
     "output_type": "stream",
     "text": [
      "0.5\n"
     ]
    }
   ],
   "source": [
    "# X_train, X_test, y_train, y_test = train_test_split(imageFeatures, labels, test_size=0.4, random_state=4)\n",
    "\n",
    "# # clf = cv2.ml.KNearest_create()\n",
    "# # clf.train(imageFeatures, labels)\n",
    "# knn = KNeighborsClassifier(n_neighbors=5)\n",
    "# knn.fit(X_train, y_train)\n",
    "# y_pred = knn.predict(X_test)\n",
    "# print(metrics.accuracy_score(y_test, y_pred))"
   ]
  },
  {
   "cell_type": "code",
   "execution_count": 8,
   "metadata": {},
   "outputs": [
    {
     "data": {
      "text/plain": [
       "True"
      ]
     },
     "execution_count": 8,
     "metadata": {},
     "output_type": "execute_result"
    }
   ],
   "source": [
    "clf = cv2.ml.KNearest_create()\n",
    "clf.train(imageFeatures, cv2.ml.ROW_SAMPLE, np.asarray(labels, dtype=np.float32))"
   ]
  },
  {
   "cell_type": "code",
   "execution_count": 20,
   "metadata": {},
   "outputs": [
    {
     "name": "stdout",
     "output_type": "stream",
     "text": [
      "9\n"
     ]
    }
   ],
   "source": [
    "imagePaths_test = list(imutils.paths.list_images(\"test\"))\n",
    "\n",
    "print (len(imagePaths_test))\n",
    "\n",
    "labels_test = []\n",
    "descriptorList_test = []\n",
    "\n",
    "sift_test = cv2.xfeatures2d.SIFT_create()\n",
    "# descriptorExtractor = cv2.DescriptorExtractor_create(\"SIFT\")\n",
    "\n",
    "for (i, imagePath) in enumerate(imagePaths_test):\n",
    "    image = cv2.imread(imagePath)\n",
    "#     gray_image = cv2.cvtColor(image, cv2.COLOR_RGB2GRAY)\n",
    "    label = imagePath.split(os.path.sep)[-1].split(\"_\")[1][0]\n",
    "#     keyPoints = featureDetector.detect(gray_image)\n",
    "#     keyPoints, descriptor = descriptorExtractor.compute(image, keyPoints)\n",
    "    keyPoints, descriptor = sift.detectAndCompute(image, None)\n",
    "    descriptorList_test.append((imagePath, descriptor))\n",
    "    labels_test.append(label)\n",
    "    \n",
    "descriptors_test = descriptorList[0][1]\n",
    "    \n",
    "for image_path, descriptor in descriptorList_test[1:]:\n",
    "    descriptors_test = np.vstack((descriptors, descriptor))\n",
    "    \n",
    "imageFeatures_test = np.zeros((len(imagePaths_test), k), \"float32\")\n",
    "for i in range(len(imagePaths_test)):\n",
    "    words, distance = vq(descriptorList_test[i][1],voc)\n",
    "    for w in words:\n",
    "        imageFeatures_test[i][w] += 1\n",
    "        \n",
    "# print (len(imageFeatures_test))\n",
    "        \n",
    "nbr_occurences_test = np.sum( (imageFeatures_test > 0) * 1, axis = 0)  # Getting the number of occurrences of each word\n",
    "idf_test = np.array(np.log((1.0*len(imagePaths_test)+1) / (1.0*nbr_occurences_test + 1)), 'float32')"
   ]
  },
  {
   "cell_type": "code",
   "execution_count": 26,
   "metadata": {},
   "outputs": [],
   "source": [
    "ret, results, neighbours ,dist = clf.findNearest(imageFeatures_test, k=15)"
   ]
  },
  {
   "cell_type": "code",
   "execution_count": 27,
   "metadata": {},
   "outputs": [
    {
     "name": "stdout",
     "output_type": "stream",
     "text": [
      "[[0.]\n",
      " [1.]\n",
      " [1.]\n",
      " [1.]\n",
      " [1.]\n",
      " [1.]\n",
      " [1.]\n",
      " [1.]\n",
      " [1.]]\n",
      "['0', '1', '1', '0', '0', '1', '0', '1', '0']\n"
     ]
    }
   ],
   "source": [
    "# print( \"result:  {}\\n\".format(results) )\n",
    "print (results)\n",
    "print (labels_test)\n",
    "\n",
    "# print( \"neighbours:  {}\\n\".format(neighbours) )\n",
    "# print( \"distance:  {}\\n\".format(dist) )"
   ]
  }
 ],
 "metadata": {
  "kernelspec": {
   "display_name": "Python 3",
   "language": "python",
   "name": "python3"
  },
  "language_info": {
   "codemirror_mode": {
    "name": "ipython",
    "version": 3
   },
   "file_extension": ".py",
   "mimetype": "text/x-python",
   "name": "python",
   "nbconvert_exporter": "python",
   "pygments_lexer": "ipython3",
   "version": "3.5.6"
  }
 },
 "nbformat": 4,
 "nbformat_minor": 2
}
