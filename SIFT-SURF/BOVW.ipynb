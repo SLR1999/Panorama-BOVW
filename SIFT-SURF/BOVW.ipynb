{
 "cells": [
  {
   "cell_type": "code",
   "execution_count": 1,
   "metadata": {},
   "outputs": [],
   "source": [
    "import os\n",
    "import numpy as np\n",
    "import cv2\n",
    "from sklearn.cluster import KMeans\n",
    "from sklearn import svm\n",
    "from sklearn.model_selection import StratifiedKFold   "
   ]
  },
  {
   "cell_type": "code",
   "execution_count": 2,
   "metadata": {},
   "outputs": [],
   "source": [
    "extractor = cv2.xfeatures2d.SIFT_create()\n",
    "\n",
    "def features(image, extractor):\n",
    "    keypoints, descriptors = extractor.detectAndCompute(image, None)\n",
    "    return keypoints, descriptors"
   ]
  },
  {
   "cell_type": "code",
   "execution_count": 3,
   "metadata": {},
   "outputs": [],
   "source": [
    "def read_images(folders):\n",
    "    data = {}\n",
    "    for folder in folders:\n",
    "        images = []\n",
    "        for filename in os.listdir(folder):\n",
    "            image = cv2.imread(os.path.join(folder, filename))\n",
    "            if image is not None:\n",
    "                images.append(image)\n",
    "        images = np.array(images)\n",
    "        data[folder] = images\n",
    "    return data"
   ]
  },
  {
   "cell_type": "code",
   "execution_count": 4,
   "metadata": {},
   "outputs": [],
   "source": [
    "def create_descriptors(data):\n",
    "    descriptor_list = []\n",
    "    image_descriptor = {}\n",
    "    for class_label in data:\n",
    "        class_descriptor_list = []\n",
    "        for image in data[class_label]:\n",
    "            gray_image = cv2.cvtColor(image, cv2.COLOR_RGB2GRAY)\n",
    "            keypoint, descriptor = features(gray_image, extractor)\n",
    "            descriptor_list.extend(descriptor)\n",
    "            class_descriptor_list.extend(descriptor)\n",
    "        class_descriptor_list = np.array(class_descriptor_list)\n",
    "        image_descriptor[class_label] = class_descriptor_list\n",
    "    descriptor_list = np.array(descriptor_list)\n",
    "    return descriptor_list, image_descriptor"
   ]
  },
  {
   "cell_type": "code",
   "execution_count": 5,
   "metadata": {},
   "outputs": [],
   "source": [
    "def build_bag_of_visual_words(model, image_descriptor):\n",
    "    BoVW = {}\n",
    "    hist_length = model.get_params()['n_clusters']\n",
    "\n",
    "    for class_label in image_descriptor:\n",
    "        hist = [0] * hist_length\n",
    "        list_of_histograms = []\n",
    "        for descriptor in image_descriptor[class_label]:\n",
    "            v = model.predict(descriptor.reshape(1, -1))[0]\n",
    "            hist[v] = hist[v]+1\n",
    "            list_of_histograms.append(hist)\n",
    "        BoVW[class_label] = list_of_histograms\n",
    "\n",
    "    return BoVW"
   ]
  },
  {
   "cell_type": "code",
   "execution_count": 6,
   "metadata": {
    "scrolled": true
   },
   "outputs": [],
   "source": [
    "data = read_images([\"Bikes\", \"Horses\"])\n",
    "descriptor_list, image_descriptor = create_descriptors(data)\n",
    "\n",
    "n_clusters = 1\n",
    "\n",
    "kmeans = KMeans(n_clusters = n_clusters)\n",
    "kmeans.fit(descriptor_list)\n",
    "\n",
    "BoVW = build_bag_of_visual_words(kmeans, image_descriptor)"
   ]
  },
  {
   "cell_type": "code",
   "execution_count": 7,
   "metadata": {},
   "outputs": [
    {
     "name": "stdout",
     "output_type": "stream",
     "text": [
      "[1. 1. 1. 1. 1.]\n",
      "Score: 1.0\n"
     ]
    }
   ],
   "source": [
    "X = []\n",
    "y = []\n",
    "\n",
    "for class_label in BoVW:\n",
    "    for histogram in BoVW[class_label]:\n",
    "        X.append(histogram)\n",
    "        y.append(class_label)\n",
    "\n",
    "X = np.asarray(X)\n",
    "y = np.asarray(y)\n",
    "\n",
    "md = svm.SVC(kernel='linear')\n",
    "cv = StratifiedKFold(n_splits=5, random_state=42)\n",
    "\n",
    "scores = []\n",
    "for train_ind, validate_ind in cv.split(X, y):\n",
    "    train_X, train_y = X[train_ind], y[train_ind]\n",
    "    validate_X, validate_y = X[validate_ind], y[validate_ind]\n",
    "    md.fit(train_X, train_y)\n",
    "    score = md.score(validate_X, validate_y)\n",
    "    scores.append(score)\n",
    "\n",
    "sc = np.array(scores)\n",
    "print(sc)\n",
    "print(\"Score: \" + str(np.mean(sc)))"
   ]
  },
  {
   "cell_type": "code",
   "execution_count": null,
   "metadata": {},
   "outputs": [],
   "source": []
  }
 ],
 "metadata": {
  "kernelspec": {
   "display_name": "Python 3",
   "language": "python",
   "name": "python3"
  },
  "language_info": {
   "codemirror_mode": {
    "name": "ipython",
    "version": 3
   },
   "file_extension": ".py",
   "mimetype": "text/x-python",
   "name": "python",
   "nbconvert_exporter": "python",
   "pygments_lexer": "ipython3",
   "version": "3.7.4"
  }
 },
 "nbformat": 4,
 "nbformat_minor": 4
}
